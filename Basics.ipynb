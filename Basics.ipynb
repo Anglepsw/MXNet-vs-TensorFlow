{
 "cells": [
  {
   "cell_type": "markdown",
   "metadata": {},
   "source": [
    "# 比较MXNet和TensorFlow的基础操作\n",
    "需要安装的库如下：\n",
    "- MXNet\n",
    "- TensorFlow\n",
    "- Numpy"
   ]
  },
  {
   "cell_type": "code",
   "execution_count": 1,
   "metadata": {},
   "outputs": [],
   "source": [
    "import mxnet as mx\n",
    "import tensorflow as tf\n",
    "import numpy as np"
   ]
  },
  {
   "cell_type": "markdown",
   "metadata": {},
   "source": [
    "首先比较的是MXNet和TensorFlow的张量生成，还有比较输出形式\n",
    "* mx.nd.array和tf.Variable不接受shape作为输入参数，而tf.constant接受"
   ]
  },
  {
   "cell_type": "code",
   "execution_count": 2,
   "metadata": {},
   "outputs": [
    {
     "name": "stdout",
     "output_type": "stream",
     "text": [
      "(3,) (2, 3)\n"
     ]
    },
    {
     "data": {
      "text/plain": [
       "{'a.shape': (3,), 'b.shape': (2, 3)}"
      ]
     },
     "execution_count": 2,
     "metadata": {},
     "output_type": "execute_result"
    }
   ],
   "source": [
    "a=mx.nd.array([1,2,3])\n",
    "b=mx.nd.array([[1,2,3],[2,3,4]])\n",
    "print(a.shape,b.shape)\n",
    "{'a.shape':a.shape,'b.shape':b.shape}"
   ]
  },
  {
   "cell_type": "code",
   "execution_count": 3,
   "metadata": {},
   "outputs": [
    {
     "name": "stdout",
     "output_type": "stream",
     "text": [
      "Tensor(\"Const:0\", shape=(1, 2), dtype=float32) Tensor(\"Const_1:0\", shape=(2, 1), dtype=float32)\n",
      "Tensor(\"mul:0\", shape=(2, 2), dtype=float32)\n",
      "[[ 6.  6.]\n",
      " [ 6.  6.]]\n"
     ]
    }
   ],
   "source": [
    "a=tf.constant([3.,3.],shape=(1,2))\n",
    "b=tf.constant([[2.],[2.]])\n",
    "print(a,b)\n",
    "c=a*b\n",
    "print(c)\n",
    "with tf.Session() as sess:\n",
    "    print(sess.run(c))"
   ]
  },
  {
   "cell_type": "code",
   "execution_count": 4,
   "metadata": {},
   "outputs": [
    {
     "name": "stdout",
     "output_type": "stream",
     "text": [
      "Tensor(\"Const_2:0\", shape=(1, 3), dtype=int32) Tensor(\"Const_3:0\", shape=(2, 3), dtype=int32)\n",
      "<tf.Variable 'a:0' shape=(3,) dtype=int32_ref> \n",
      " <tf.Variable 'b:0' shape=(2, 3) dtype=float32_ref> \n",
      " <tf.Variable 'c:0' shape=(2, 3) dtype=float32_ref> \n",
      " Tensor(\"add:0\", shape=(2, 3), dtype=float32) \n",
      "\n",
      "[[ 2.  4.  6.]\n",
      " [ 4.  6.  8.]]\n"
     ]
    }
   ],
   "source": [
    "a=tf.constant([1,2,3],shape=(1,3))\n",
    "b=tf.constant([[1,2,3],[2,3,4]])\n",
    "print(a,b)\n",
    "a=tf.Variable([1,2,3],name='a')\n",
    "b=tf.Variable([[1.,2,3],[2,3,4]],name='b')\n",
    "c=tf.Variable([[1.,2,3],[2,3,4]],name='c')\n",
    "d=b+c\n",
    "print(a,'\\n',b,'\\n',c,'\\n',d,'\\n')\n",
    "with tf.Session() as sess:\n",
    "    init=tf.global_variables_initializer()\n",
    "    #init=tf.initialize_all_variables()\n",
    "    sess.run(init)\n",
    "    print(sess.run(d))"
   ]
  },
  {
   "cell_type": "markdown",
   "metadata": {},
   "source": [
    "接下来比较MX和TF创建变量时能否接受类型\n",
    "- MXNet在创建张量时就能够接受类型\n",
    "- tf.Variable不能接受类型，类型根据初始值来定，且不可改变，通过相应函数改变类型会使变量变成张量"
   ]
  },
  {
   "cell_type": "code",
   "execution_count": 6,
   "metadata": {},
   "outputs": [
    {
     "data": {
      "text/plain": [
       "(numpy.float32, numpy.int32, numpy.float16, tf.float32)"
      ]
     },
     "execution_count": 6,
     "metadata": {},
     "output_type": "execute_result"
    }
   ],
   "source": [
    "# float32 is used by default\n",
    "a = mx.nd.array([1,2,3])\n",
    "# create an int32 array\n",
    "b = mx.nd.array([1,2,3], dtype=np.int32)\n",
    "# create a 16-bit float array\n",
    "c = mx.nd.array([1.2, 2.3], dtype=np.float16)\n",
    "(a.dtype, b.dtype, c.dtype,d.dtype)"
   ]
  },
  {
   "cell_type": "code",
   "execution_count": 7,
   "metadata": {},
   "outputs": [
    {
     "name": "stdout",
     "output_type": "stream",
     "text": [
      "[array([[ 1.,  0.],\n",
      "       [ 0.,  1.]], dtype=float32), array([[ 0.,  0.,  0.],\n",
      "       [ 0.,  0.,  0.]], dtype=float16), array([[1, 0],\n",
      "       [0, 1]])]\n",
      "[[ 1.  0.]\n",
      " [ 0.  1.]]\n",
      "Tensor(\"ToDouble:0\", shape=(2, 2), dtype=float64) <tf.Variable 'b_1:0' shape=(2, 3) dtype=float16_ref> Tensor(\"ToInt32:0\", shape=(2, 2), dtype=int32)\n"
     ]
    }
   ],
   "source": [
    "a = tf.Variable(tf.eye(2,2),name='a')\n",
    "b = tf.Variable(tf.zeros([2,3],dtype=tf.float16),name='b')\n",
    "c = tf.to_int32(a)\n",
    "init_op = tf.global_variables_initializer()\n",
    "with tf.Session() as sess:\n",
    "    sess.run(init_op)\n",
    "    print(sess.run([a,b,c]))\n",
    "    a=tf.to_double(a)\n",
    "    print(sess.run(a))\n",
    "    print(a,b,c)"
   ]
  },
  {
   "cell_type": "markdown",
   "metadata": {
    "collapsed": true
   },
   "source": [
    "MXNet有数种方法可以产生placeholder的效果，而tf也可以通过tf.variable或者tf.placeholder完成placeholder的效果。但是MXNet的用法更像是平时C或者Matlab里变量的用法，即什么都可以干，可以是variable，也可以是constant，也可以是placeholder\n",
    "- tf.placeholder可以指定shape也可以不指定，像神经网络里时可以指定列数但不指定行数\n",
    "- tf.placeholder在使用是一定要feed数据，否则会报错\n",
    "- tf.placeholder不能接受一个tf.tensor对象，必须是python对象、numpy或者tensorhandle\n",
    "- mx和tf中数据类型不同时均不能直接计算"
   ]
  },
  {
   "cell_type": "code",
   "execution_count": 8,
   "metadata": {
    "collapsed": true
   },
   "outputs": [],
   "source": [
    "# create a 2-dimensional array full of zeros with shape (2,3)\n",
    "a = mx.nd.zeros((2,3))\n",
    "# create a same shape array full of ones\n",
    "b = mx.nd.ones((2,3))\n",
    "# create a same shape array with all elements set to 7\n",
    "c = mx.nd.full((2,3), 7)\n",
    "# create a same shape whose initial content is random and\n",
    "# depends on the state of the memory\n",
    "d = mx.nd.empty((2,3))"
   ]
  },
  {
   "cell_type": "code",
   "execution_count": 9,
   "metadata": {},
   "outputs": [
    {
     "name": "stdout",
     "output_type": "stream",
     "text": [
      "<class 'numpy.ndarray'>\n",
      "[[ 1.47177196  1.9306283   0.38896868]\n",
      " [ 1.50954461  0.00949893  0.92321837]]\n"
     ]
    }
   ],
   "source": [
    "a = tf.placeholder(tf.float16,shape=(None,3))\n",
    "b = np.random.random([2,3])\n",
    "print(type(b))\n",
    "c = tf.to_float(a)+b\n",
    "with tf.Session() as sess:\n",
    "    print(sess.run(c,feed_dict={a:b}))"
   ]
  },
  {
   "cell_type": "code",
   "execution_count": null,
   "metadata": {
    "collapsed": true
   },
   "outputs": [],
   "source": []
  }
 ],
 "metadata": {
  "kernelspec": {
   "display_name": "Python 3",
   "language": "python",
   "name": "python3"
  },
  "language_info": {
   "codemirror_mode": {
    "name": "ipython",
    "version": 3
   },
   "file_extension": ".py",
   "mimetype": "text/x-python",
   "name": "python",
   "nbconvert_exporter": "python",
   "pygments_lexer": "ipython3",
   "version": "3.5.4"
  }
 },
 "nbformat": 4,
 "nbformat_minor": 2
}
