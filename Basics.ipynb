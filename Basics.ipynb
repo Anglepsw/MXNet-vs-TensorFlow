{
 "cells": [
  {
   "cell_type": "markdown",
   "metadata": {},
   "source": [
    "# 比较MXNet和TensorFlow的基础操作\n",
    "需要安装的库如下：\n",
    "- MXNet\n",
    "- TensorFlow\n",
    "- Numpy"
   ]
  },
  {
   "cell_type": "code",
   "execution_count": 1,
   "metadata": {},
   "outputs": [
    {
     "name": "stderr",
     "output_type": "stream",
     "text": [
      "d:\\Program Files\\Anaconda2\\envs\\python35\\lib\\site-packages\\tensorflow\\python\\util\\tf_inspect.py:45: DeprecationWarning: inspect.getargspec() is deprecated, use inspect.signature() instead\n",
      "  if d.decorator_argspec is not None), _inspect.getargspec(target))\n"
     ]
    }
   ],
   "source": [
    "import mxnet as mx\n",
    "import tensorflow as tf\n",
    "import numpy as np"
   ]
  },
  {
   "cell_type": "markdown",
   "metadata": {},
   "source": [
    "接下来比较MX和TF创建变量时能否接受类型\n",
    "- MXNet在创建张量时就能够接受类型\n",
    "- tf.Variable不能接受类型，类型根据初始值来定，且不可改变，通过相应函数改变类型会使变量变成张量"
   ]
  },
  {
   "cell_type": "code",
   "execution_count": 34,
   "metadata": {},
   "outputs": [
    {
     "ename": "AttributeError",
     "evalue": "'NDArray' object has no attribute 'type'",
     "output_type": "error",
     "traceback": [
      "\u001b[0;31m---------------------------------------------------------------------------\u001b[0m",
      "\u001b[0;31mAttributeError\u001b[0m                            Traceback (most recent call last)",
      "\u001b[0;32m<ipython-input-34-1f3e9fd8a536>\u001b[0m in \u001b[0;36m<module>\u001b[0;34m()\u001b[0m\n\u001b[1;32m      5\u001b[0m \u001b[1;31m# create a 16-bit float array\u001b[0m\u001b[1;33m\u001b[0m\u001b[1;33m\u001b[0m\u001b[0m\n\u001b[1;32m      6\u001b[0m \u001b[0mc\u001b[0m \u001b[1;33m=\u001b[0m \u001b[0mmx\u001b[0m\u001b[1;33m.\u001b[0m\u001b[0mnd\u001b[0m\u001b[1;33m.\u001b[0m\u001b[0marray\u001b[0m\u001b[1;33m(\u001b[0m\u001b[1;33m[\u001b[0m\u001b[1;36m1.2\u001b[0m\u001b[1;33m,\u001b[0m \u001b[1;36m2.3\u001b[0m\u001b[1;33m]\u001b[0m\u001b[1;33m,\u001b[0m \u001b[0mdtype\u001b[0m\u001b[1;33m=\u001b[0m\u001b[0mnp\u001b[0m\u001b[1;33m.\u001b[0m\u001b[0mfloat16\u001b[0m\u001b[1;33m)\u001b[0m\u001b[1;33m\u001b[0m\u001b[0m\n\u001b[0;32m----> 7\u001b[0;31m \u001b[1;33m(\u001b[0m\u001b[0ma\u001b[0m\u001b[1;33m.\u001b[0m\u001b[0mdtype\u001b[0m\u001b[1;33m,\u001b[0m \u001b[0mb\u001b[0m\u001b[1;33m.\u001b[0m\u001b[0mdtype\u001b[0m\u001b[1;33m,\u001b[0m \u001b[0mc\u001b[0m\u001b[1;33m.\u001b[0m\u001b[0mdtype\u001b[0m\u001b[1;33m,\u001b[0m\u001b[0md\u001b[0m\u001b[1;33m.\u001b[0m\u001b[0mtype\u001b[0m\u001b[1;33m)\u001b[0m\u001b[1;33m\u001b[0m\u001b[0m\n\u001b[0m",
      "\u001b[0;31mAttributeError\u001b[0m: 'NDArray' object has no attribute 'type'"
     ]
    }
   ],
   "source": [
    "# float32 is used by default\n",
    "a = mx.nd.array([1,2,3])\n",
    "# create an int32 array\n",
    "b = mx.nd.array([1,2,3], dtype=np.int32)\n",
    "# create a 16-bit float array\n",
    "c = mx.nd.array([1.2, 2.3], dtype=np.float16)\n",
    "(a.dtype, b.dtype, c.dtype,d.type)"
   ]
  },
  {
   "cell_type": "code",
   "execution_count": 26,
   "metadata": {},
   "outputs": [
    {
     "name": "stdout",
     "output_type": "stream",
     "text": [
      "[array([[ 1.,  0.],\n",
      "       [ 0.,  1.]], dtype=float32), array([[ 0.,  0.,  0.],\n",
      "       [ 0.,  0.,  0.]], dtype=float16), array([[1, 0],\n",
      "       [0, 1]])]\n",
      "[[ 1.  0.]\n",
      " [ 0.  1.]]\n",
      "Tensor(\"ToDouble_2:0\", shape=(2, 2), dtype=float64) <tf.Variable 'b_7:0' shape=(2, 3) dtype=float16_ref> Tensor(\"ToInt32_5:0\", shape=(2, 2), dtype=int32)\n"
     ]
    }
   ],
   "source": [
    "a = tf.Variable(tf.eye(2,2),name='a')\n",
    "b = tf.Variable(tf.zeros([2,3],dtype=tf.float16),name='b')\n",
    "c = tf.to_int32(a)\n",
    "init_op = tf.global_variables_initializer()\n",
    "with tf.Session() as sess:\n",
    "    sess.run(init_op)\n",
    "    print(sess.run([a,b,c]))\n",
    "    a=tf.to_double(a)\n",
    "    print(sess.run(a))\n",
    "    print(a,b,c)"
   ]
  },
  {
   "cell_type": "markdown",
   "metadata": {
    "collapsed": true
   },
   "source": [
    "MXNet有数种方法可以产生placeholder的效果，而tf也可以通过tf.variable或者tf.placeholder完成placeholder的效果。但是MXNet的用法更像是平时C或者Matlab里变量的用法，即什么都可以干，可以是variable，也可以是constant，也可以是placeholder\n",
    "- tf.placeholder可以指定shape也可以不指定，像神经网络里时可以指定列数但不指定行数\n",
    "- tf.placeholder在使用是一定要feed数据，否则会报错\n",
    "- tf.placeholder不能接受一个tf.tensor对象，必须是python对象、numpy或者tensorhandle\n",
    "- mx和tf中数据类型不同时均不能直接计算"
   ]
  },
  {
   "cell_type": "code",
   "execution_count": 27,
   "metadata": {
    "collapsed": true
   },
   "outputs": [],
   "source": [
    "# create a 2-dimensional array full of zeros with shape (2,3)\n",
    "a = mx.nd.zeros((2,3))\n",
    "# create a same shape array full of ones\n",
    "b = mx.nd.ones((2,3))\n",
    "# create a same shape array with all elements set to 7\n",
    "c = mx.nd.full((2,3), 7)\n",
    "# create a same shape whose initial content is random and\n",
    "# depends on the state of the memory\n",
    "d = mx.nd.empty((2,3))"
   ]
  },
  {
   "cell_type": "code",
   "execution_count": 41,
   "metadata": {},
   "outputs": [
    {
     "name": "stdout",
     "output_type": "stream",
     "text": [
      "<class 'numpy.ndarray'>\n",
      "[[ 0.19419721  0.50434005  1.90043592]\n",
      " [ 1.34005737  0.66710633  0.43237439]]\n"
     ]
    }
   ],
   "source": [
    "a = tf.placeholder(tf.float16,shape=(None,3))\n",
    "b = np.random.random([2,3])\n",
    "print(type(b))\n",
    "c = tf.to_float(a)+b\n",
    "with tf.Session() as sess:\n",
    "    print(sess.run(c,feed_dict={a:b}))"
   ]
  },
  {
   "cell_type": "code",
   "execution_count": null,
   "metadata": {
    "collapsed": true
   },
   "outputs": [],
   "source": []
  }
 ],
 "metadata": {
  "kernelspec": {
   "display_name": "Python 3",
   "language": "python",
   "name": "python3"
  },
  "language_info": {
   "codemirror_mode": {
    "name": "ipython",
    "version": 3
   },
   "file_extension": ".py",
   "mimetype": "text/x-python",
   "name": "python",
   "nbconvert_exporter": "python",
   "pygments_lexer": "ipython3",
   "version": "3.5.2"
  }
 },
 "nbformat": 4,
 "nbformat_minor": 2
}
